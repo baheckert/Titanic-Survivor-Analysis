{
 "cells": [
  {
   "cell_type": "code",
   "execution_count": 2,
   "metadata": {
    "collapsed": false
   },
   "outputs": [],
   "source": [
    "#import csv for files and numpy for math and arrays\n",
    "import csv as csv\n",
    "import numpy as np\n",
    "\n",
    "#open csv file in to Python object\n",
    "csv_file_object = csv.reader(open('train.csv', 'rb'))\n",
    "header = csv_file_object.next()\n",
    "\n",
    "data = []\n",
    "for row in csv_file_object:\n",
    "    data.append(row)\n",
    "data = np.array(data)"
   ]
  },
  {
   "cell_type": "code",
   "execution_count": 3,
   "metadata": {
    "collapsed": false
   },
   "outputs": [],
   "source": [
    "number_passengers = np.size(data[0::,1].astype(np.float))\n",
    "number_survived = np.sum(data[0::,1].astype(np.float))\n",
    "proportion_survivors = number_survived / number_passengers"
   ]
  },
  {
   "cell_type": "code",
   "execution_count": 4,
   "metadata": {
    "collapsed": true
   },
   "outputs": [],
   "source": [
    "women_only_stats = data[0::,4] == 'female'\n",
    "men_only_stats = data[0::,4] != 'female'"
   ]
  },
  {
   "cell_type": "code",
   "execution_count": 5,
   "metadata": {
    "collapsed": true
   },
   "outputs": [],
   "source": [
    "women_onboard = data[women_only_stats,1].astype(np.float)\n",
    "men_onboard = data[men_only_stats,1].astype(np.float)\n",
    "\n",
    "proportion_women_survived = np.sum(women_onboard) / np.size(women_onboard)\n",
    "proportion_men_survived = np.sum(men_onboard) / np.size(men_onboard)"
   ]
  },
  {
   "cell_type": "code",
   "execution_count": 6,
   "metadata": {
    "collapsed": false
   },
   "outputs": [
    {
     "name": "stdout",
     "output_type": "stream",
     "text": [
      "proportion of women who survived is 0.742038216561\n",
      "proportion of men who survived is 0.188908145581\n"
     ]
    }
   ],
   "source": [
    "print 'proportion of women who survived is %s' % proportion_women_survived\n",
    "print 'proportion of men who survived is %s' % proportion_men_survived"
   ]
  },
  {
   "cell_type": "code",
   "execution_count": 7,
   "metadata": {
    "collapsed": true
   },
   "outputs": [],
   "source": [
    "#reading test data and writing gender model to csv\n",
    "test_file = open('test.csv', 'rb')\n",
    "test_file_object = csv.reader(test_file)\n",
    "header = test_file_object.next()"
   ]
  },
  {
   "cell_type": "code",
   "execution_count": 8,
   "metadata": {
    "collapsed": true
   },
   "outputs": [],
   "source": [
    "prediction_file = open('genderbasedmodel.csv', 'wb')\n",
    "prediction_file_object = csv.writer(prediction_file)"
   ]
  },
  {
   "cell_type": "code",
   "execution_count": 9,
   "metadata": {
    "collapsed": true
   },
   "outputs": [],
   "source": [
    "prediction_file_object.writerow(['PassengerId', 'Survived'])\n",
    "for row in test_file_object:\n",
    "    if row[3] == 'female':\n",
    "        prediction_file_object.writerow([row[0], '1'])\n",
    "    else:\n",
    "        prediction_file_object.writerow([row[0], '0'])\n",
    "test_file.close()\n",
    "prediction_file.close()"
   ]
  },
  {
   "cell_type": "code",
   "execution_count": 10,
   "metadata": {
    "collapsed": false
   },
   "outputs": [],
   "source": [
    "#binning ticket prices\n",
    "fare_ceiling = 40\n",
    "data[data[0::,9].astype(np.float) >= fare_ceiling, 9] = fare_ceiling - 1.0\n",
    "\n",
    "fare_bracket_size = 10\n",
    "number_of_price_brackets = fare_ceiling / fare_bracket_size\n",
    "\n",
    "number_of_classes = len(np.unique(data[0::, 2]))\n",
    "\n",
    "survival_table = np.zeros((2, number_of_classes, number_of_price_brackets))"
   ]
  },
  {
   "cell_type": "code",
   "execution_count": 26,
   "metadata": {
    "collapsed": false
   },
   "outputs": [],
   "source": [
    "#loop through each class\n",
    "for i in xrange(number_of_classes):\n",
    "    for j in xrange(number_of_price_brackets):\n",
    "        \n",
    "        women_only_stats = data[(data[0::, 4] == 'female') \\\n",
    "                                & (data[0::, 2].astype(np.float) == i + 1) \\\n",
    "                               & (data[0:, 9].astype(np.float) >= j * fare_bracket_size) \\\n",
    "                               & (data[0:, 9].astype(np.float) < (j+1) * fare_bracket_size) \\\n",
    "                               , 1]\n",
    "        \n",
    "        men_only_stats = data[(data[0::, 4] != 'female') \\\n",
    "                                & (data[0::, 2].astype(np.float) == i + 1) \\\n",
    "                               & (data[0:, 9].astype(np.float) >= j * fare_bracket_size) \\\n",
    "                               & (data[0:, 9].astype(np.float) < (j+1) * fare_bracket_size) \\\n",
    "                               , 1]\n",
    "        \n",
    "        survival_table[0,i,j] = np.mean(women_only_stats.astype(np.float)) \n",
    "        survival_table[1,i,j] = np.mean(men_only_stats.astype(np.float))\n",
    "\n",
    "survival_table[survival_table != survival_table] = 0"
   ]
  },
  {
   "cell_type": "code",
   "execution_count": 27,
   "metadata": {
    "collapsed": false
   },
   "outputs": [
    {
     "name": "stdout",
     "output_type": "stream",
     "text": [
      "[[[ 0.          0.          0.83333333  0.97727273]\n",
      "  [ 0.          0.91428571  0.9         1.        ]\n",
      "  [ 0.59375     0.58139535  0.33333333  0.125     ]]\n",
      "\n",
      " [[ 0.          0.          0.4         0.38372093]\n",
      "  [ 0.          0.15873016  0.16        0.21428571]\n",
      "  [ 0.11153846  0.23684211  0.125       0.24      ]]]\n"
     ]
    }
   ],
   "source": [
    "print survival_table"
   ]
  },
  {
   "cell_type": "code",
   "execution_count": 28,
   "metadata": {
    "collapsed": false
   },
   "outputs": [
    {
     "name": "stdout",
     "output_type": "stream",
     "text": [
      "['1' '0' '0' '0' '0' '1' '0' '0' '0' '0' '0' '0' '0' '0' '0' '0']\n"
     ]
    }
   ],
   "source": [
    "print women_only_stats"
   ]
  },
  {
   "cell_type": "code",
   "execution_count": 29,
   "metadata": {
    "collapsed": true
   },
   "outputs": [],
   "source": [
    "survival_table[survival_table < 0.5] = 0\n",
    "survival_table[survival_table >= 0.5] = 1"
   ]
  },
  {
   "cell_type": "code",
   "execution_count": 30,
   "metadata": {
    "collapsed": false
   },
   "outputs": [
    {
     "name": "stdout",
     "output_type": "stream",
     "text": [
      "[[[ 0.  0.  1.  1.]\n",
      "  [ 0.  1.  1.  1.]\n",
      "  [ 1.  1.  0.  0.]]\n",
      "\n",
      " [[ 0.  0.  0.  0.]\n",
      "  [ 0.  0.  0.  0.]\n",
      "  [ 0.  0.  0.  0.]]]\n"
     ]
    }
   ],
   "source": [
    "print survival_table"
   ]
  },
  {
   "cell_type": "code",
   "execution_count": 41,
   "metadata": {
    "collapsed": false
   },
   "outputs": [],
   "source": [
    "#create csv for test.csv using genderclassmodel\n",
    "test_file = open('test.csv', 'rb')\n",
    "test_file_object = csv.reader(test_file)\n",
    "header = test_file_object.next()\n",
    "predictions_file = open('genderclassmodel.csv', 'wb')\n",
    "p = csv.writer(predictions_file)\n",
    "p.writerow(['PassengerId', 'Survived'])"
   ]
  },
  {
   "cell_type": "code",
   "execution_count": 42,
   "metadata": {
    "collapsed": false
   },
   "outputs": [
    {
     "name": "stderr",
     "output_type": "stream",
     "text": [
      "F:\\Data Science\\Anaconda 2.7\\lib\\site-packages\\ipykernel\\__main__.py:17: VisibleDeprecationWarning: using a non-integer number instead of an integer will result in an error in the future\n",
      "F:\\Data Science\\Anaconda 2.7\\lib\\site-packages\\ipykernel\\__main__.py:15: VisibleDeprecationWarning: using a non-integer number instead of an integer will result in an error in the future\n"
     ]
    }
   ],
   "source": [
    "for row in test_file_object:\n",
    "    for j in xrange(number_of_price_brackets):\n",
    "        try:\n",
    "            row[8] = float(row[8])\n",
    "        except:\n",
    "            bin_fare = 3 - float(row[1])\n",
    "            break\n",
    "        if row[8] > fare_ceiling:\n",
    "            bin_fare = number_of_price_brackets - 1\n",
    "            break\n",
    "        if row[8] <= j * fare_bracket_size and row[8] < (j + 1) * fare_bracket_size:\n",
    "            bin_fare = j\n",
    "            break\n",
    "    if row[3] == 'female':\n",
    "        p.writerow([row[0], '%d' % int(survival_table[0, float(row[1]) - 1, bin_fare])])\n",
    "    else:\n",
    "        p.writerow([row[0], '%d' % int(survival_table[1, float(row[1]) - 1, bin_fare])])\n"
   ]
  },
  {
   "cell_type": "code",
   "execution_count": 43,
   "metadata": {
    "collapsed": true
   },
   "outputs": [],
   "source": [
    "# Close out the files\n",
    "test_file.close()\n",
    "predictions_file.close()"
   ]
  },
  {
   "cell_type": "code",
   "execution_count": 44,
   "metadata": {
    "collapsed": false
   },
   "outputs": [
    {
     "name": "stdout",
     "output_type": "stream",
     "text": [
      "[[[ 0.  0.  1.  1.]\n",
      "  [ 0.  1.  1.  1.]\n",
      "  [ 1.  1.  0.  0.]]\n",
      "\n",
      " [[ 0.  0.  0.  0.]\n",
      "  [ 0.  0.  0.  0.]\n",
      "  [ 0.  0.  0.  0.]]]\n"
     ]
    }
   ],
   "source": [
    "print survival_table"
   ]
  },
  {
   "cell_type": "code",
   "execution_count": null,
   "metadata": {
    "collapsed": true
   },
   "outputs": [],
   "source": []
  }
 ],
 "metadata": {
  "anaconda-cloud": {},
  "kernelspec": {
   "display_name": "Python [default]",
   "language": "python",
   "name": "python2"
  },
  "language_info": {
   "codemirror_mode": {
    "name": "ipython",
    "version": 2
   },
   "file_extension": ".py",
   "mimetype": "text/x-python",
   "name": "python",
   "nbconvert_exporter": "python",
   "pygments_lexer": "ipython2",
   "version": "2.7.12"
  }
 },
 "nbformat": 4,
 "nbformat_minor": 1
}
